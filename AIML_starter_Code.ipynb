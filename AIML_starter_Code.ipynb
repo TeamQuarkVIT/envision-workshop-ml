{
 "cells": [
  {
   "cell_type": "markdown",
   "id": "52a28322",
   "metadata": {},
   "source": [
    "## End-to-End classifiatio of veggies 🥦🥬"
   ]
  },
  {
   "cell_type": "markdown",
   "id": "e9ac397d",
   "metadata": {},
   "source": [
    "`Things that we are going to cover in todays session`"
   ]
  },
  {
   "cell_type": "code",
   "execution_count": 1,
   "id": "a892002c",
   "metadata": {},
   "outputs": [
    {
     "data": {
      "text/plain": [
       "{1: 'Check your tensorflow version',\n",
       " 2: 'Import the required libraries',\n",
       " 3: 'Walk through the data',\n",
       " 4: 'Process the data',\n",
       " 5: 'Peform data augmentation',\n",
       " 6: 'Build a CNN model(Wohhh here we are)',\n",
       " 7: 'Compile your model',\n",
       " 8: 'Fit the model',\n",
       " 9: 'Check how well your model is(Putting it all together)',\n",
       " 10: 'Check predictions of your model',\n",
       " 11: 'Save your model'}"
      ]
     },
     "execution_count": 1,
     "metadata": {},
     "output_type": "execute_result"
    }
   ],
   "source": [
    "things_to_learn={1:'Check your tensorflow version',\n",
    "                 2:'Import the required libraries',\n",
    "                 3:'Walk through the data',\n",
    "                 4:'Process the data',\n",
    "                 5:'Peform data augmentation',\n",
    "                 6:'Build a CNN model(Wohhh here we are)',\n",
    "                 7:'Compile your model',\n",
    "                 8:'Fit the model',\n",
    "                 9:'Check how well your model is(Putting it all together)',\n",
    "                 10:'Check predictions of your model',\n",
    "                 11:'Save your model'}\n",
    "things_to_learn"
   ]
  },
  {
   "cell_type": "markdown",
   "id": "6e26a098",
   "metadata": {},
   "source": [
    "### 1. Checking the TensorFlow Version"
   ]
  },
  {
   "cell_type": "code",
   "execution_count": 3,
   "id": "725d6dd5",
   "metadata": {},
   "outputs": [
    {
     "name": "stdout",
     "output_type": "stream",
     "text": [
      "2.10.0\n"
     ]
    }
   ],
   "source": [
    "import tensorflow\n",
    "print(tensorflow.__version__)"
   ]
  },
  {
   "cell_type": "markdown",
   "id": "dfa0c8d8",
   "metadata": {},
   "source": [
    "### 2. Importing the required libraries"
   ]
  },
  {
   "cell_type": "code",
   "execution_count": 4,
   "id": "6cb777f6",
   "metadata": {},
   "outputs": [],
   "source": [
    "# Import libraries\n",
    "import numpy as np\n",
    "import matplotlib.pyplot as plt\n",
    "import tensorflow as tf\n",
    "from tensorflow import keras\n",
    "from keras.layers import *\n",
    "from keras.models import *\n",
    "from keras.preprocessing import image\n",
    "from keras.preprocessing.image import ImageDataGenerator\n",
    "import os, shutil\n",
    "import warnings\n",
    "warnings.filterwarnings('ignore')"
   ]
  },
  {
   "cell_type": "markdown",
   "id": "c7dcb79b",
   "metadata": {},
   "source": [
    "### 3. Get the data"
   ]
  },
  {
   "cell_type": "code",
   "execution_count": null,
   "id": "5a2291cd",
   "metadata": {},
   "outputs": [],
   "source": [
    "!git clone https://github.com/TeamQuarkVIT/aiml-workshop-ml.git"
   ]
  },
  {
   "cell_type": "code",
   "execution_count": null,
   "id": "3ead139c",
   "metadata": {},
   "outputs": [],
   "source": []
  },
  {
   "cell_type": "markdown",
   "id": "486afacd",
   "metadata": {},
   "source": [
    "### 10. Check how well your predictions are"
   ]
  },
  {
   "cell_type": "code",
   "execution_count": 5,
   "id": "32d2eecd",
   "metadata": {},
   "outputs": [],
   "source": [
    "def plot_loss_curves(history):\n",
    "  \"\"\"\n",
    "  Returns separate loss curves for training and validation metrics.\n",
    "  Args:\n",
    "    history: TensorFlow model History object (see: https://www.tensorflow.org/api_docs/python/tf/keras/callbacks/History)\n",
    "  \"\"\" \n",
    "  loss = history.history['loss']\n",
    "  val_loss = history.history['val_loss']\n",
    "\n",
    "  accuracy = history.history['accuracy']\n",
    "  val_accuracy = history.history['val_accuracy']\n",
    "\n",
    "  epochs = range(len(history.history['loss']))\n",
    "\n",
    "  # Plot loss\n",
    "  plt.plot(epochs, loss, label='training_loss')\n",
    "  plt.plot(epochs, val_loss, label='val_loss')\n",
    "  plt.title('Loss')\n",
    "  plt.xlabel('Epochs')\n",
    "  plt.legend()\n",
    "\n",
    "  # Plot accuracy\n",
    "  plt.figure()\n",
    "  plt.plot(epochs, accuracy, label='training_accuracy')\n",
    "  plt.plot(epochs, val_accuracy, label='val_accuracy')\n",
    "  plt.title('Accuracy')\n",
    "  plt.xlabel('Epochs')\n",
    "  plt.legend();"
   ]
  },
  {
   "cell_type": "markdown",
   "id": "6844bc35",
   "metadata": {},
   "source": [
    "### 11. Check your model predictions"
   ]
  },
  {
   "cell_type": "code",
   "execution_count": 6,
   "id": "99a37b2e",
   "metadata": {},
   "outputs": [],
   "source": [
    "def load_and_prep_image(filename, img_shape=224, scale=True):\n",
    "  \"\"\"\n",
    "  Reads in an image from filename, turns it into a tensor and reshapes into\n",
    "  (224, 224, 3).\n",
    "  Parameters\n",
    "  ----------\n",
    "  filename (str): string filename of target image\n",
    "  img_shape (int): size to resize target image to, default 224\n",
    "  scale (bool): whether to scale pixel values to range(0, 1), default True\n",
    "  \"\"\"\n",
    "  # Read in the image\n",
    "  img = tf.io.read_file(filename)\n",
    "  # Decode it into a tensor\n",
    "  img = tf.image.decode_jpeg(img)\n",
    "  # Resize the image\n",
    "  img = tf.image.resize(img, [img_shape, img_shape])\n",
    "  if scale:\n",
    "    # Rescale the image (get all values between 0 and 1)\n",
    "    return img/255.\n",
    "  else:\n",
    "    return img"
   ]
  },
  {
   "cell_type": "code",
   "execution_count": 7,
   "id": "2f25f3eb",
   "metadata": {},
   "outputs": [],
   "source": [
    "def pred_and_plot(model, filename, class_names):\n",
    "  \"\"\"\n",
    "  Imports an image located at filename, makes a prediction on it with\n",
    "  a trained model and plots the image with the predicted class as the title.\n",
    "  \"\"\"\n",
    "  # Import the target image and preprocess it\n",
    "  img = load_and_prep_image(filename)\n",
    "\n",
    "  # Make a prediction\n",
    "  pred = model.predict(tf.expand_dims(img, axis=0))\n",
    "\n",
    "  # Get the predicted class\n",
    "  if len(pred[0]) > 1: # check for multi-class\n",
    "    pred_class = class_names[pred.argmax()] # if more than one output, take the max\n",
    "  else:\n",
    "    pred_class = class_names[int(tf.round(pred)[0][0])] # if only one output, round\n",
    "\n",
    "  # Plot the image and predicted class\n",
    "  plt.imshow(img)\n",
    "  plt.title(f\"Prediction: {pred_class}\")\n",
    "  plt.axis(False);"
   ]
  },
  {
   "cell_type": "code",
   "execution_count": null,
   "id": "bf6be614",
   "metadata": {},
   "outputs": [],
   "source": []
  }
 ],
 "metadata": {
  "kernelspec": {
   "display_name": "Python 3 (ipykernel)",
   "language": "python",
   "name": "python3"
  },
  "language_info": {
   "codemirror_mode": {
    "name": "ipython",
    "version": 3
   },
   "file_extension": ".py",
   "mimetype": "text/x-python",
   "name": "python",
   "nbconvert_exporter": "python",
   "pygments_lexer": "ipython3",
   "version": "3.9.2"
  }
 },
 "nbformat": 4,
 "nbformat_minor": 5
}
